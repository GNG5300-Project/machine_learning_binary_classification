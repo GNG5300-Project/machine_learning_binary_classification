{
 "cells": [
  {
   "cell_type": "markdown",
   "metadata": {},
   "source": []
  },
  {
   "cell_type": "markdown",
   "metadata": {},
   "source": [
    "<a name='1'></a>\n",
    "\n",
    "## 1 - Import necessary libraries and modules"
   ]
  },
  {
   "cell_type": "code",
   "execution_count": 28,
   "metadata": {},
   "outputs": [
    {
     "name": "stdout",
     "output_type": "stream",
     "text": [
      "succesfully handled imports\n",
      "\n",
      "INSTALLED VERSIONS\n",
      "------------------\n",
      "commit           : 2e218d10984e9919f0296931d92ea851c6a6faf5\n",
      "python           : 3.10.14.final.0\n",
      "python-bits      : 64\n",
      "OS               : Darwin\n",
      "OS-release       : 23.1.0\n",
      "Version          : Darwin Kernel Version 23.1.0: Mon Oct  9 21:27:27 PDT 2023; root:xnu-10002.41.9~6/RELEASE_X86_64\n",
      "machine          : x86_64\n",
      "processor        : i386\n",
      "byteorder        : little\n",
      "LC_ALL           : None\n",
      "LANG             : en_US.UTF-8\n",
      "LOCALE           : en_US.UTF-8\n",
      "\n",
      "pandas           : 1.5.3\n",
      "numpy            : 1.26.4\n",
      "pytz             : 2024.1\n",
      "dateutil         : 2.9.0.post0\n",
      "setuptools       : 65.5.0\n",
      "pip              : 24.1.1\n",
      "Cython           : None\n",
      "pytest           : None\n",
      "hypothesis       : None\n",
      "sphinx           : None\n",
      "blosc            : None\n",
      "feather          : None\n",
      "xlsxwriter       : None\n",
      "lxml.etree       : 5.2.2\n",
      "html5lib         : None\n",
      "pymysql          : None\n",
      "psycopg2         : None\n",
      "jinja2           : 3.1.2\n",
      "IPython          : 7.34.0\n",
      "pandas_datareader: None\n",
      "bs4              : 4.12.3\n",
      "bottleneck       : None\n",
      "brotli           : None\n",
      "fastparquet      : None\n",
      "fsspec           : None\n",
      "gcsfs            : None\n",
      "matplotlib       : 3.9.0\n",
      "numba            : None\n",
      "numexpr          : None\n",
      "odfpy            : None\n",
      "openpyxl         : None\n",
      "pandas_gbq       : None\n",
      "pyarrow          : 10.0.1\n",
      "pyreadstat       : None\n",
      "pyxlsb           : None\n",
      "s3fs             : None\n",
      "scipy            : 1.12.0\n",
      "snappy           : 0.7.2\n",
      "sqlalchemy       : None\n",
      "tables           : None\n",
      "tabulate         : 0.9.0\n",
      "xarray           : None\n",
      "xlrd             : None\n",
      "xlwt             : None\n",
      "zstandard        : 0.22.0\n",
      "tzdata           : None\n"
     ]
    }
   ],
   "source": [
    "import os\n",
    "import pandas as pd\n",
    "import numpy as np\n",
    "import tensorflow as tf\n",
    "import tempfile, urllib, zipfile\n",
    "import tensorflow_data_validation as tfdv\n",
    "import tensorflow_decision_forests as tfdf\n",
    "\n",
    "from sklearn.model_selection import train_test_split\n",
    "from tensorflow.python.lib.io import file_io\n",
    "from tensorflow_data_validation.utils import slicing_util\n",
    "from tensorflow_metadata.proto.v0.statistics_pb2 import DatasetFeatureStatisticsList, DatasetFeatureStatistics\n",
    "from sklearn.preprocessing import StandardScaler, LabelEncoder\n",
    "from tensorflow.keras.utils import to_categorical\n",
    "from sklearn.metrics import f1_score\n",
    "from sklearn.utils.class_weight import compute_class_weight\n",
    "from sklearn.ensemble import RandomForestClassifier\n",
    "from sklearn.metrics import precision_score, recall_score, f1_score, accuracy_score, confusion_matrix, classification_report\n",
    "from imblearn.over_sampling import SMOTE\n",
    "import joblib\n",
    "\n",
    "# Set TF's logger to only display errors to avoid internal warnings being shown\n",
    "tf.get_logger().setLevel('ERROR')\n",
    "print(\"succesfully handled imports\")\n",
    "pd.show_versions()\n"
   ]
  },
  {
   "cell_type": "markdown",
   "metadata": {},
   "source": [
    "<a name='2'></a>\n",
    "\n",
    "## 2 - Load the credit worthiness dataset"
   ]
  },
  {
   "cell_type": "code",
   "execution_count": 29,
   "metadata": {},
   "outputs": [
    {
     "data": {
      "text/html": [
       "<div>\n",
       "<style scoped>\n",
       "    .dataframe tbody tr th:only-of-type {\n",
       "        vertical-align: middle;\n",
       "    }\n",
       "\n",
       "    .dataframe tbody tr th {\n",
       "        vertical-align: top;\n",
       "    }\n",
       "\n",
       "    .dataframe thead th {\n",
       "        text-align: right;\n",
       "    }\n",
       "</style>\n",
       "<table border=\"1\" class=\"dataframe\">\n",
       "  <thead>\n",
       "    <tr style=\"text-align: right;\">\n",
       "      <th></th>\n",
       "      <th>LoanID</th>\n",
       "      <th>Age</th>\n",
       "      <th>Income</th>\n",
       "      <th>LoanAmount</th>\n",
       "      <th>CreditScore</th>\n",
       "      <th>MonthsEmployed</th>\n",
       "      <th>NumCreditLines</th>\n",
       "      <th>InterestRate</th>\n",
       "      <th>LoanTerm</th>\n",
       "      <th>DTIRatio</th>\n",
       "      <th>Education</th>\n",
       "      <th>EmploymentType</th>\n",
       "      <th>MaritalStatus</th>\n",
       "      <th>HasMortgage</th>\n",
       "      <th>HasDependents</th>\n",
       "      <th>LoanPurpose</th>\n",
       "      <th>HasCoSigner</th>\n",
       "      <th>Default</th>\n",
       "    </tr>\n",
       "  </thead>\n",
       "  <tbody>\n",
       "    <tr>\n",
       "      <th>0</th>\n",
       "      <td>I38PQUQS96</td>\n",
       "      <td>56</td>\n",
       "      <td>85994</td>\n",
       "      <td>50587</td>\n",
       "      <td>520</td>\n",
       "      <td>80</td>\n",
       "      <td>4</td>\n",
       "      <td>15.23</td>\n",
       "      <td>36</td>\n",
       "      <td>0.44</td>\n",
       "      <td>Bachelor's</td>\n",
       "      <td>Full-time</td>\n",
       "      <td>Divorced</td>\n",
       "      <td>Yes</td>\n",
       "      <td>Yes</td>\n",
       "      <td>Other</td>\n",
       "      <td>Yes</td>\n",
       "      <td>0</td>\n",
       "    </tr>\n",
       "    <tr>\n",
       "      <th>1</th>\n",
       "      <td>HPSK72WA7R</td>\n",
       "      <td>69</td>\n",
       "      <td>50432</td>\n",
       "      <td>124440</td>\n",
       "      <td>458</td>\n",
       "      <td>15</td>\n",
       "      <td>1</td>\n",
       "      <td>4.81</td>\n",
       "      <td>60</td>\n",
       "      <td>0.68</td>\n",
       "      <td>Master's</td>\n",
       "      <td>Full-time</td>\n",
       "      <td>Married</td>\n",
       "      <td>No</td>\n",
       "      <td>No</td>\n",
       "      <td>Other</td>\n",
       "      <td>Yes</td>\n",
       "      <td>0</td>\n",
       "    </tr>\n",
       "    <tr>\n",
       "      <th>2</th>\n",
       "      <td>C1OZ6DPJ8Y</td>\n",
       "      <td>46</td>\n",
       "      <td>84208</td>\n",
       "      <td>129188</td>\n",
       "      <td>451</td>\n",
       "      <td>26</td>\n",
       "      <td>3</td>\n",
       "      <td>21.17</td>\n",
       "      <td>24</td>\n",
       "      <td>0.31</td>\n",
       "      <td>Master's</td>\n",
       "      <td>Unemployed</td>\n",
       "      <td>Divorced</td>\n",
       "      <td>Yes</td>\n",
       "      <td>Yes</td>\n",
       "      <td>Auto</td>\n",
       "      <td>No</td>\n",
       "      <td>1</td>\n",
       "    </tr>\n",
       "    <tr>\n",
       "      <th>3</th>\n",
       "      <td>V2KKSFM3UN</td>\n",
       "      <td>32</td>\n",
       "      <td>31713</td>\n",
       "      <td>44799</td>\n",
       "      <td>743</td>\n",
       "      <td>0</td>\n",
       "      <td>3</td>\n",
       "      <td>7.07</td>\n",
       "      <td>24</td>\n",
       "      <td>0.23</td>\n",
       "      <td>High School</td>\n",
       "      <td>Full-time</td>\n",
       "      <td>Married</td>\n",
       "      <td>No</td>\n",
       "      <td>No</td>\n",
       "      <td>Business</td>\n",
       "      <td>No</td>\n",
       "      <td>0</td>\n",
       "    </tr>\n",
       "    <tr>\n",
       "      <th>4</th>\n",
       "      <td>EY08JDHTZP</td>\n",
       "      <td>60</td>\n",
       "      <td>20437</td>\n",
       "      <td>9139</td>\n",
       "      <td>633</td>\n",
       "      <td>8</td>\n",
       "      <td>4</td>\n",
       "      <td>6.51</td>\n",
       "      <td>48</td>\n",
       "      <td>0.73</td>\n",
       "      <td>Bachelor's</td>\n",
       "      <td>Unemployed</td>\n",
       "      <td>Divorced</td>\n",
       "      <td>No</td>\n",
       "      <td>Yes</td>\n",
       "      <td>Auto</td>\n",
       "      <td>No</td>\n",
       "      <td>0</td>\n",
       "    </tr>\n",
       "  </tbody>\n",
       "</table>\n",
       "</div>"
      ],
      "text/plain": [
       "       LoanID  Age  Income  LoanAmount  CreditScore  MonthsEmployed  \\\n",
       "0  I38PQUQS96   56   85994       50587          520              80   \n",
       "1  HPSK72WA7R   69   50432      124440          458              15   \n",
       "2  C1OZ6DPJ8Y   46   84208      129188          451              26   \n",
       "3  V2KKSFM3UN   32   31713       44799          743               0   \n",
       "4  EY08JDHTZP   60   20437        9139          633               8   \n",
       "\n",
       "   NumCreditLines  InterestRate  LoanTerm  DTIRatio    Education  \\\n",
       "0               4         15.23        36      0.44   Bachelor's   \n",
       "1               1          4.81        60      0.68     Master's   \n",
       "2               3         21.17        24      0.31     Master's   \n",
       "3               3          7.07        24      0.23  High School   \n",
       "4               4          6.51        48      0.73   Bachelor's   \n",
       "\n",
       "  EmploymentType MaritalStatus HasMortgage HasDependents LoanPurpose  \\\n",
       "0      Full-time      Divorced         Yes           Yes       Other   \n",
       "1      Full-time       Married          No            No       Other   \n",
       "2     Unemployed      Divorced         Yes           Yes        Auto   \n",
       "3      Full-time       Married          No            No    Business   \n",
       "4     Unemployed      Divorced          No           Yes        Auto   \n",
       "\n",
       "  HasCoSigner  Default  \n",
       "0         Yes        0  \n",
       "1         Yes        0  \n",
       "2          No        1  \n",
       "3          No        0  \n",
       "4          No        0  "
      ]
     },
     "execution_count": 29,
     "metadata": {},
     "output_type": "execute_result"
    }
   ],
   "source": [
    "# Read CSV data into a dataframe and recognize the missing data that is encoded with '?' string as NaN\n",
    "df = pd.read_csv('dataset/Loan_default.csv', header=0, na_values = '?')\n",
    "# Preview the dataset\n",
    "df.head()"
   ]
  },
  {
   "cell_type": "markdown",
   "metadata": {},
   "source": [
    "<a name='1'></a>\n",
    "\n",
    "## 2 - Split the dataset for the training into PRODUCTION, EVALUATION, SERVING sets.\n",
    "The split ratio will be as follows:\\\n",
    "PRODUCTION: 70%\\\n",
    "SERVING: 15%\\\n",
    "EVALUATION: 15%\\\n",
    "For the serving dataset we will drop the Default column as it is the label for which we want to predict the value\\"
   ]
  },
  {
   "cell_type": "code",
   "execution_count": 30,
   "metadata": {},
   "outputs": [],
   "source": [
    "def prepare_data_splits_from_dataframe(df):\n",
    "    '''\n",
    "    Splits a Pandas Dataframe into training, evaluation and serving sets.\n",
    "\n",
    "    Parameters:\n",
    "            df : pandas dataframe to split\n",
    "\n",
    "    Returns:\n",
    "            train_df: Training dataframe(70% of the entire dataset)\n",
    "            eval_df: Evaluation dataframe (15% of the entire dataset) \n",
    "            serving_df: Serving dataframe (15% of the entire dataset, label column dropped)\n",
    "    '''\n",
    "    train_df, temp_df = train_test_split(df, test_size=0.3, random_state=42, stratify=df['Default'])\n",
    "    # Then, split temp into evaluation and serving\n",
    "    # eval_df=temp_df; serving_df = temp_df\n",
    "    eval_df, serving_df = train_test_split(temp_df, test_size=0.5, random_state=48, stratify=temp_df['Default'])\n",
    " \n",
    "    # Serving data emulates the data that would be submitted for predictions, so it should not have the label column.\n",
    "    # serving_df = serving_df.drop(['Default'], axis=1)\n",
    "\n",
    "    return train_df, eval_df, serving_df"
   ]
  },
  {
   "cell_type": "markdown",
   "metadata": {},
   "source": [
    "Running the split function to seperate into the different datasets\n"
   ]
  },
  {
   "cell_type": "code",
   "execution_count": 31,
   "metadata": {},
   "outputs": [
    {
     "name": "stdout",
     "output_type": "stream",
     "text": [
      "Training dataset has 178742 records\n",
      "Validation dataset has 38302 records\n",
      "Serving dataset has 38303 records\n"
     ]
    }
   ],
   "source": [
    "train_df, eval_df, serving_df = prepare_data_splits_from_dataframe(df)\n",
    "print('Training dataset has {} records\\nValidation dataset has {} records\\nServing dataset has {} records'.format(len(train_df),len(eval_df),len(serving_df)))"
   ]
  },
  {
   "cell_type": "markdown",
   "metadata": {},
   "source": [
    "<a name='3'></a>\n",
    "## 3 - Removing unneeded features and generating statistics options\n",
    "These features we expect to not impact the final outcome of the training hence their removal"
   ]
  },
  {
   "cell_type": "code",
   "execution_count": 32,
   "metadata": {},
   "outputs": [
    {
     "name": "stdout",
     "output_type": "stream",
     "text": [
      "['Age', 'Income', 'LoanAmount', 'CreditScore', 'MonthsEmployed', 'NumCreditLines', 'InterestRate', 'LoanTerm', 'DTIRatio', 'Education', 'EmploymentType', 'MaritalStatus', 'HasMortgage', 'HasDependents', 'LoanPurpose', 'HasCoSigner', 'Default']\n"
     ]
    }
   ],
   "source": [
    "# Define features to remove in dataframe\n",
    "features_to_remove = {'LoanID'}\n",
    "approved_cols = [col for col in df.columns if (col not in features_to_remove)]\n",
    "stats_options = tfdv.StatsOptions(feature_allowlist=approved_cols)\n",
    "print(stats_options.feature_allowlist)"
   ]
  },
  {
   "cell_type": "markdown",
   "metadata": {},
   "source": [
    "<a name='4'></a>\n",
    "\n",
    "## 4 - Generate the training statistics"
   ]
  },
  {
   "cell_type": "code",
   "execution_count": 33,
   "metadata": {},
   "outputs": [
    {
     "name": "stdout",
     "output_type": "stream",
     "text": [
      "Number of features used: 18\n",
      "Number of examples used: 178742\n",
      "First feature: Age\n",
      "Last feature: __index_level_0__\n"
     ]
    }
   ],
   "source": [
    "train_stats = tfdv.generate_statistics_from_dataframe(dataframe=train_df, stats_options=stats_options)\n",
    "\n",
    "# validate section\n",
    "\n",
    "# get the number of features used to compute statistics\n",
    "print(f\"Number of features used: {len(train_stats.datasets[0].features)}\")\n",
    "\n",
    "# check the number of examples used\n",
    "print(f\"Number of examples used: {train_stats.datasets[0].num_examples}\")\n",
    "\n",
    "# check the column names of the first and last feature\n",
    "print(f\"First feature: {train_stats.datasets[0].features[0].path.step[0]}\")\n",
    "print(f\"Last feature: {train_stats.datasets[0].features[-1].path.step[0]}\")"
   ]
  },
  {
   "cell_type": "markdown",
   "metadata": {},
   "source": [
    "<a name='6'></a>\n",
    "## 6 - Visualize the training statistics"
   ]
  },
  {
   "cell_type": "code",
   "execution_count": 34,
   "metadata": {},
   "outputs": [
    {
     "data": {
      "text/html": [
       "<iframe id='facets-iframe' width=\"100%\" height=\"500px\"></iframe>\n",
       "        <script>\n",
       "        facets_iframe = document.getElementById('facets-iframe');\n",
       "        facets_html = '<script src=\"https://cdnjs.cloudflare.com/ajax/libs/webcomponentsjs/1.3.3/webcomponents-lite.js\"><\\/script><link rel=\"import\" href=\"https://raw.githubusercontent.com/PAIR-code/facets/master/facets-dist/facets-jupyter.html\"><facets-overview proto-input=\"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\"></facets-overview>';\n",
       "        facets_iframe.srcdoc = facets_html;\n",
       "         facets_iframe.id = \"\";\n",
       "         setTimeout(() => {\n",
       "           facets_iframe.setAttribute('height', facets_iframe.contentWindow.document.body.offsetHeight + 'px')\n",
       "         }, 1500)\n",
       "         </script>"
      ],
      "text/plain": [
       "<IPython.core.display.HTML object>"
      ]
     },
     "metadata": {},
     "output_type": "display_data"
    }
   ],
   "source": [
    "tfdv.visualize_statistics(lhs_statistics=train_stats,lhs_name='statistics for train-stats')"
   ]
  },
  {
   "cell_type": "markdown",
   "metadata": {},
   "source": [
    "<a name='7'></a>\n",
    "## 7 - Infer a Data schema"
   ]
  },
  {
   "cell_type": "code",
   "execution_count": 35,
   "metadata": {},
   "outputs": [
    {
     "data": {
      "text/html": [
       "<div>\n",
       "<style scoped>\n",
       "    .dataframe tbody tr th:only-of-type {\n",
       "        vertical-align: middle;\n",
       "    }\n",
       "\n",
       "    .dataframe tbody tr th {\n",
       "        vertical-align: top;\n",
       "    }\n",
       "\n",
       "    .dataframe thead th {\n",
       "        text-align: right;\n",
       "    }\n",
       "</style>\n",
       "<table border=\"1\" class=\"dataframe\">\n",
       "  <thead>\n",
       "    <tr style=\"text-align: right;\">\n",
       "      <th></th>\n",
       "      <th>Type</th>\n",
       "      <th>Presence</th>\n",
       "      <th>Valency</th>\n",
       "      <th>Domain</th>\n",
       "    </tr>\n",
       "    <tr>\n",
       "      <th>Feature name</th>\n",
       "      <th></th>\n",
       "      <th></th>\n",
       "      <th></th>\n",
       "      <th></th>\n",
       "    </tr>\n",
       "  </thead>\n",
       "  <tbody>\n",
       "    <tr>\n",
       "      <th>'Age'</th>\n",
       "      <td>INT</td>\n",
       "      <td>required</td>\n",
       "      <td></td>\n",
       "      <td>-</td>\n",
       "    </tr>\n",
       "    <tr>\n",
       "      <th>'Income'</th>\n",
       "      <td>INT</td>\n",
       "      <td>required</td>\n",
       "      <td></td>\n",
       "      <td>-</td>\n",
       "    </tr>\n",
       "    <tr>\n",
       "      <th>'LoanAmount'</th>\n",
       "      <td>INT</td>\n",
       "      <td>required</td>\n",
       "      <td></td>\n",
       "      <td>-</td>\n",
       "    </tr>\n",
       "    <tr>\n",
       "      <th>'CreditScore'</th>\n",
       "      <td>INT</td>\n",
       "      <td>required</td>\n",
       "      <td></td>\n",
       "      <td>-</td>\n",
       "    </tr>\n",
       "    <tr>\n",
       "      <th>'MonthsEmployed'</th>\n",
       "      <td>INT</td>\n",
       "      <td>required</td>\n",
       "      <td></td>\n",
       "      <td>-</td>\n",
       "    </tr>\n",
       "    <tr>\n",
       "      <th>'NumCreditLines'</th>\n",
       "      <td>INT</td>\n",
       "      <td>required</td>\n",
       "      <td></td>\n",
       "      <td>-</td>\n",
       "    </tr>\n",
       "    <tr>\n",
       "      <th>'InterestRate'</th>\n",
       "      <td>FLOAT</td>\n",
       "      <td>required</td>\n",
       "      <td></td>\n",
       "      <td>-</td>\n",
       "    </tr>\n",
       "    <tr>\n",
       "      <th>'LoanTerm'</th>\n",
       "      <td>INT</td>\n",
       "      <td>required</td>\n",
       "      <td></td>\n",
       "      <td>-</td>\n",
       "    </tr>\n",
       "    <tr>\n",
       "      <th>'DTIRatio'</th>\n",
       "      <td>FLOAT</td>\n",
       "      <td>required</td>\n",
       "      <td></td>\n",
       "      <td>-</td>\n",
       "    </tr>\n",
       "    <tr>\n",
       "      <th>'Education'</th>\n",
       "      <td>STRING</td>\n",
       "      <td>required</td>\n",
       "      <td></td>\n",
       "      <td>'Education'</td>\n",
       "    </tr>\n",
       "    <tr>\n",
       "      <th>'EmploymentType'</th>\n",
       "      <td>STRING</td>\n",
       "      <td>required</td>\n",
       "      <td></td>\n",
       "      <td>'EmploymentType'</td>\n",
       "    </tr>\n",
       "    <tr>\n",
       "      <th>'MaritalStatus'</th>\n",
       "      <td>STRING</td>\n",
       "      <td>required</td>\n",
       "      <td></td>\n",
       "      <td>'MaritalStatus'</td>\n",
       "    </tr>\n",
       "    <tr>\n",
       "      <th>'HasMortgage'</th>\n",
       "      <td>STRING</td>\n",
       "      <td>required</td>\n",
       "      <td></td>\n",
       "      <td>'HasMortgage'</td>\n",
       "    </tr>\n",
       "    <tr>\n",
       "      <th>'HasDependents'</th>\n",
       "      <td>STRING</td>\n",
       "      <td>required</td>\n",
       "      <td></td>\n",
       "      <td>'HasDependents'</td>\n",
       "    </tr>\n",
       "    <tr>\n",
       "      <th>'LoanPurpose'</th>\n",
       "      <td>STRING</td>\n",
       "      <td>required</td>\n",
       "      <td></td>\n",
       "      <td>'LoanPurpose'</td>\n",
       "    </tr>\n",
       "    <tr>\n",
       "      <th>'HasCoSigner'</th>\n",
       "      <td>STRING</td>\n",
       "      <td>required</td>\n",
       "      <td></td>\n",
       "      <td>'HasCoSigner'</td>\n",
       "    </tr>\n",
       "    <tr>\n",
       "      <th>'Default'</th>\n",
       "      <td>INT</td>\n",
       "      <td>required</td>\n",
       "      <td></td>\n",
       "      <td>-</td>\n",
       "    </tr>\n",
       "    <tr>\n",
       "      <th>'__index_level_0__'</th>\n",
       "      <td>INT</td>\n",
       "      <td>required</td>\n",
       "      <td></td>\n",
       "      <td>-</td>\n",
       "    </tr>\n",
       "  </tbody>\n",
       "</table>\n",
       "</div>"
      ],
      "text/plain": [
       "                       Type  Presence Valency            Domain\n",
       "Feature name                                                   \n",
       "'Age'                   INT  required                         -\n",
       "'Income'                INT  required                         -\n",
       "'LoanAmount'            INT  required                         -\n",
       "'CreditScore'           INT  required                         -\n",
       "'MonthsEmployed'        INT  required                         -\n",
       "'NumCreditLines'        INT  required                         -\n",
       "'InterestRate'        FLOAT  required                         -\n",
       "'LoanTerm'              INT  required                         -\n",
       "'DTIRatio'            FLOAT  required                         -\n",
       "'Education'          STRING  required               'Education'\n",
       "'EmploymentType'     STRING  required          'EmploymentType'\n",
       "'MaritalStatus'      STRING  required           'MaritalStatus'\n",
       "'HasMortgage'        STRING  required             'HasMortgage'\n",
       "'HasDependents'      STRING  required           'HasDependents'\n",
       "'LoanPurpose'        STRING  required             'LoanPurpose'\n",
       "'HasCoSigner'        STRING  required             'HasCoSigner'\n",
       "'Default'               INT  required                         -\n",
       "'__index_level_0__'     INT  required                         -"
      ]
     },
     "metadata": {},
     "output_type": "display_data"
    },
    {
     "data": {
      "text/html": [
       "<div>\n",
       "<style scoped>\n",
       "    .dataframe tbody tr th:only-of-type {\n",
       "        vertical-align: middle;\n",
       "    }\n",
       "\n",
       "    .dataframe tbody tr th {\n",
       "        vertical-align: top;\n",
       "    }\n",
       "\n",
       "    .dataframe thead th {\n",
       "        text-align: right;\n",
       "    }\n",
       "</style>\n",
       "<table border=\"1\" class=\"dataframe\">\n",
       "  <thead>\n",
       "    <tr style=\"text-align: right;\">\n",
       "      <th></th>\n",
       "      <th>Values</th>\n",
       "    </tr>\n",
       "    <tr>\n",
       "      <th>Domain</th>\n",
       "      <th></th>\n",
       "    </tr>\n",
       "  </thead>\n",
       "  <tbody>\n",
       "    <tr>\n",
       "      <th>'Education'</th>\n",
       "      <td>'Bachelor\\'s', 'High School', 'Master\\'s', 'PhD'</td>\n",
       "    </tr>\n",
       "    <tr>\n",
       "      <th>'EmploymentType'</th>\n",
       "      <td>'Full-time', 'Part-time', 'Self-employed', 'Unemployed'</td>\n",
       "    </tr>\n",
       "    <tr>\n",
       "      <th>'MaritalStatus'</th>\n",
       "      <td>'Divorced', 'Married', 'Single'</td>\n",
       "    </tr>\n",
       "    <tr>\n",
       "      <th>'HasMortgage'</th>\n",
       "      <td>'No', 'Yes'</td>\n",
       "    </tr>\n",
       "    <tr>\n",
       "      <th>'HasDependents'</th>\n",
       "      <td>'No', 'Yes'</td>\n",
       "    </tr>\n",
       "    <tr>\n",
       "      <th>'LoanPurpose'</th>\n",
       "      <td>'Auto', 'Business', 'Education', 'Home', 'Other'</td>\n",
       "    </tr>\n",
       "    <tr>\n",
       "      <th>'HasCoSigner'</th>\n",
       "      <td>'No', 'Yes'</td>\n",
       "    </tr>\n",
       "  </tbody>\n",
       "</table>\n",
       "</div>"
      ],
      "text/plain": [
       "                                                                   Values\n",
       "Domain                                                                   \n",
       "'Education'              'Bachelor\\'s', 'High School', 'Master\\'s', 'PhD'\n",
       "'EmploymentType'  'Full-time', 'Part-time', 'Self-employed', 'Unemployed'\n",
       "'MaritalStatus'                           'Divorced', 'Married', 'Single'\n",
       "'HasMortgage'                                                 'No', 'Yes'\n",
       "'HasDependents'                                               'No', 'Yes'\n",
       "'LoanPurpose'            'Auto', 'Business', 'Education', 'Home', 'Other'\n",
       "'HasCoSigner'                                                 'No', 'Yes'"
      ]
     },
     "metadata": {},
     "output_type": "display_data"
    }
   ],
   "source": [
    "schema = tfdv.infer_schema(statistics=train_stats)\n",
    "\n",
    "# Display the data schema\n",
    "tfdv.display_schema(schema=schema)"
   ]
  },
  {
   "cell_type": "markdown",
   "metadata": {},
   "source": [
    "<a name='8'></a>\n",
    "## 8 - Calculate, Visualize and Fix Training and Evaluation Anomalies\n"
   ]
  },
  {
   "cell_type": "code",
   "execution_count": 36,
   "metadata": {},
   "outputs": [
    {
     "data": {
      "text/html": [
       "<iframe id='facets-iframe' width=\"100%\" height=\"500px\"></iframe>\n",
       "        <script>\n",
       "        facets_iframe = document.getElementById('facets-iframe');\n",
       "        facets_html = '<script src=\"https://cdnjs.cloudflare.com/ajax/libs/webcomponentsjs/1.3.3/webcomponents-lite.js\"><\\/script><link rel=\"import\" href=\"https://raw.githubusercontent.com/PAIR-code/facets/master/facets-dist/facets-jupyter.html\"><facets-overview proto-input=\"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\"></facets-overview>';\n",
       "        facets_iframe.srcdoc = facets_html;\n",
       "         facets_iframe.id = \"\";\n",
       "         setTimeout(() => {\n",
       "           facets_iframe.setAttribute('height', facets_iframe.contentWindow.document.body.offsetHeight + 'px')\n",
       "         }, 1500)\n",
       "         </script>"
      ],
      "text/plain": [
       "<IPython.core.display.HTML object>"
      ]
     },
     "metadata": {},
     "output_type": "display_data"
    },
    {
     "name": "stdout",
     "output_type": "stream",
     "text": [
      "Number of features: 18\n",
      "Number of examples: 38302\n",
      "First feature: Age\n",
      "Last feature: __index_level_0__\n"
     ]
    }
   ],
   "source": [
    "## getting the stats for our evaluation dataframe\n",
    "eval_stats = tfdv.generate_statistics_from_dataframe(eval_df, stats_options=stats_options)\n",
    "tfdv.visualize_statistics(lhs_statistics=eval_stats, rhs_statistics=train_stats,\n",
    "                          lhs_name='EVAL_DATASET', rhs_name='TRAIN_DATASET')\n",
    "\n",
    "# TEST CODE\n",
    "\n",
    "# get the number of features used to compute statistics\n",
    "print(f\"Number of features: {len(eval_stats.datasets[0].features)}\")\n",
    "\n",
    "# check the number of examples used\n",
    "print(f\"Number of examples: {eval_stats.datasets[0].num_examples}\")\n",
    "\n",
    "# check the column names of the first and last feature\n",
    "print(f\"First feature: {eval_stats.datasets[0].features[0].path.step[0]}\")\n",
    "print(f\"Last feature: {eval_stats.datasets[0].features[-1].path.step[0]}\")"
   ]
  },
  {
   "cell_type": "markdown",
   "metadata": {},
   "source": [
    "<a name='8'></a>\n",
    "\n",
    "## 8 - Fix anomalies in training and evaluation frames if there are any\n"
   ]
  },
  {
   "cell_type": "code",
   "execution_count": 37,
   "metadata": {},
   "outputs": [
    {
     "data": {
      "text/html": [
       "<iframe id='facets-iframe' width=\"100%\" height=\"500px\"></iframe>\n",
       "        <script>\n",
       "        facets_iframe = document.getElementById('facets-iframe');\n",
       "        facets_html = '<script src=\"https://cdnjs.cloudflare.com/ajax/libs/webcomponentsjs/1.3.3/webcomponents-lite.js\"><\\/script><link rel=\"import\" href=\"https://raw.githubusercontent.com/PAIR-code/facets/master/facets-dist/facets-jupyter.html\"><facets-overview proto-input=\"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\"></facets-overview>';\n",
       "        facets_iframe.srcdoc = facets_html;\n",
       "         facets_iframe.id = \"\";\n",
       "         setTimeout(() => {\n",
       "           facets_iframe.setAttribute('height', facets_iframe.contentWindow.document.body.offsetHeight + 'px')\n",
       "         }, 1500)\n",
       "         </script>"
      ],
      "text/plain": [
       "<IPython.core.display.HTML object>"
      ]
     },
     "metadata": {},
     "output_type": "display_data"
    },
    {
     "name": "stdout",
     "output_type": "stream",
     "text": [
      "The Dataframe is for: evaluation_anomalies\n"
     ]
    },
    {
     "data": {
      "text/html": [
       "<h4 style=\"color:green;\">No anomalies found.</h4>"
      ],
      "text/plain": [
       "<IPython.core.display.HTML object>"
      ]
     },
     "metadata": {},
     "output_type": "display_data"
    },
    {
     "data": {
      "text/html": [
       "<iframe id='facets-iframe' width=\"100%\" height=\"500px\"></iframe>\n",
       "        <script>\n",
       "        facets_iframe = document.getElementById('facets-iframe');\n",
       "        facets_html = '<script src=\"https://cdnjs.cloudflare.com/ajax/libs/webcomponentsjs/1.3.3/webcomponents-lite.js\"><\\/script><link rel=\"import\" href=\"https://raw.githubusercontent.com/PAIR-code/facets/master/facets-dist/facets-jupyter.html\"><facets-overview proto-input=\"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\"></facets-overview>';\n",
       "        facets_iframe.srcdoc = facets_html;\n",
       "         facets_iframe.id = \"\";\n",
       "         setTimeout(() => {\n",
       "           facets_iframe.setAttribute('height', facets_iframe.contentWindow.document.body.offsetHeight + 'px')\n",
       "         }, 1500)\n",
       "         </script>"
      ],
      "text/plain": [
       "<IPython.core.display.HTML object>"
      ]
     },
     "metadata": {},
     "output_type": "display_data"
    },
    {
     "name": "stdout",
     "output_type": "stream",
     "text": [
      "The Dataframe is for: training_anomalies\n"
     ]
    },
    {
     "data": {
      "text/html": [
       "<h4 style=\"color:green;\">No anomalies found.</h4>"
      ],
      "text/plain": [
       "<IPython.core.display.HTML object>"
      ]
     },
     "metadata": {},
     "output_type": "display_data"
    }
   ],
   "source": [
    "def calculate_and_display_anomalies(type, statistics, schema):\n",
    "    '''\n",
    "    Calculate and display anomalies.\n",
    "\n",
    "            Parameters:\n",
    "                    statistics : Data statistics in statistics_pb2.DatasetFeatureStatisticsList format\n",
    "                    schema : Data schema in schema_pb2.Schema format\n",
    "\n",
    "            Returns:\n",
    "                    display of calculated anomalies\n",
    "    '''\n",
    "    tfdv.visualize_statistics(lhs_statistics=statistics, rhs_statistics=train_stats,\n",
    "                          lhs_name='SERVE_DATASET', rhs_name='TRAIN_DATASET')\n",
    "    # HINTS: Pass the statistics and schema parameters into the validation function \n",
    "    anomalies = tfdv.validate_statistics(statistics=statistics, schema=schema)\n",
    "    \n",
    "    # HINTS: Display input anomalies by using the calculated anomalies\n",
    "    print('The Dataframe is for: ' + type)\n",
    "    tfdv.display_anomalies(anomalies=anomalies)\n",
    "    ### END CODE HERE\n",
    "\n",
    "# Check evaluation data for errors by validating the evaluation data staticss using the previously inferred schema\n",
    "calculate_and_display_anomalies('evaluation_anomalies', eval_stats, schema=schema)\n",
    "calculate_and_display_anomalies('training_anomalies', train_stats, schema=schema)"
   ]
  },
  {
   "cell_type": "markdown",
   "metadata": {},
   "source": [
    "<a name='9'></a>\n",
    "\n",
    "## 8 - Fix anomalies in serving data frames if there are any\n"
   ]
  },
  {
   "cell_type": "code",
   "execution_count": 38,
   "metadata": {},
   "outputs": [
    {
     "data": {
      "text/html": [
       "<iframe id='facets-iframe' width=\"100%\" height=\"500px\"></iframe>\n",
       "        <script>\n",
       "        facets_iframe = document.getElementById('facets-iframe');\n",
       "        facets_html = '<script src=\"https://cdnjs.cloudflare.com/ajax/libs/webcomponentsjs/1.3.3/webcomponents-lite.js\"><\\/script><link rel=\"import\" href=\"https://raw.githubusercontent.com/PAIR-code/facets/master/facets-dist/facets-jupyter.html\"><facets-overview proto-input=\"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\"></facets-overview>';\n",
       "        facets_iframe.srcdoc = facets_html;\n",
       "         facets_iframe.id = \"\";\n",
       "         setTimeout(() => {\n",
       "           facets_iframe.setAttribute('height', facets_iframe.contentWindow.document.body.offsetHeight + 'px')\n",
       "         }, 1500)\n",
       "         </script>"
      ],
      "text/plain": [
       "<IPython.core.display.HTML object>"
      ]
     },
     "metadata": {},
     "output_type": "display_data"
    },
    {
     "name": "stdout",
     "output_type": "stream",
     "text": [
      "The Dataframe is for: serving_anomalies\n"
     ]
    },
    {
     "data": {
      "text/html": [
       "<h4 style=\"color:green;\">No anomalies found.</h4>"
      ],
      "text/plain": [
       "<IPython.core.display.HTML object>"
      ]
     },
     "metadata": {},
     "output_type": "display_data"
    },
    {
     "name": "stdout",
     "output_type": "stream",
     "text": [
      "Detect any missing column anomalies after excluding from environment\n"
     ]
    },
    {
     "data": {
      "text/html": [
       "<div>\n",
       "<style scoped>\n",
       "    .dataframe tbody tr th:only-of-type {\n",
       "        vertical-align: middle;\n",
       "    }\n",
       "\n",
       "    .dataframe tbody tr th {\n",
       "        vertical-align: top;\n",
       "    }\n",
       "\n",
       "    .dataframe thead th {\n",
       "        text-align: right;\n",
       "    }\n",
       "</style>\n",
       "<table border=\"1\" class=\"dataframe\">\n",
       "  <thead>\n",
       "    <tr style=\"text-align: right;\">\n",
       "      <th></th>\n",
       "      <th>Anomaly short description</th>\n",
       "      <th>Anomaly long description</th>\n",
       "    </tr>\n",
       "    <tr>\n",
       "      <th>Feature name</th>\n",
       "      <th></th>\n",
       "      <th></th>\n",
       "    </tr>\n",
       "  </thead>\n",
       "  <tbody>\n",
       "    <tr>\n",
       "      <th>'Default'</th>\n",
       "      <td>Column missing in environment</td>\n",
       "      <td>New column Default found in data but not in the environment SERVING in the schema.</td>\n",
       "    </tr>\n",
       "  </tbody>\n",
       "</table>\n",
       "</div>"
      ],
      "text/plain": [
       "                  Anomaly short description  \\\n",
       "Feature name                                  \n",
       "'Default'     Column missing in environment   \n",
       "\n",
       "                                                                        Anomaly long description  \n",
       "Feature name                                                                                      \n",
       "'Default'     New column Default found in data but not in the environment SERVING in the schema.  "
      ]
     },
     "metadata": {},
     "output_type": "display_data"
    }
   ],
   "source": [
    "serving_options = tfdv.StatsOptions(schema=schema, \n",
    "                            infer_type_from_schema=True, \n",
    "                            feature_allowlist=approved_cols)\n",
    "serving_stats = tfdv.generate_statistics_from_dataframe(serving_df, stats_options=serving_options)\n",
    "calculate_and_display_anomalies('serving_anomalies', serving_stats, schema=schema)\n",
    "\n",
    "schema.default_environment.append('TRAINING')\n",
    "schema.default_environment.append('SERVING')\n",
    "\n",
    "tfdv.get_feature(schema, 'Default').not_in_environment.append('SERVING')\n",
    "\n",
    "serving_anomalies_with_env = tfdv.validate_statistics(statistics=serving_stats, schema=schema, environment='SERVING')\n",
    "print('Detect any missing column anomalies after excluding from environment')\n",
    "tfdv.display_anomalies(serving_anomalies_with_env)"
   ]
  },
  {
   "cell_type": "markdown",
   "metadata": {},
   "source": [
    "<a name='10'></a>\n",
    "## 10 - Freeze the schema"
   ]
  },
  {
   "cell_type": "code",
   "execution_count": null,
   "metadata": {},
   "outputs": [],
   "source": [
    "OUTPUT_DIR = \"output\"\n",
    "file_io.recursive_create_dir(OUTPUT_DIR)\n",
    "\n",
    "# Use TensorFlow text output format pbtxt to store the schema\n",
    "schema_file = os.path.join(OUTPUT_DIR, 'credit_worthiness_schema.pbtxt')\n",
    "\n",
    "# write_schema_text function expect the defined schema and output path as parameters\n",
    "tfdv.write_schema_text(schema, schema_file)  "
   ]
  }
 ],
 "metadata": {
  "kernelspec": {
   "display_name": "Python 3",
   "language": "python",
   "name": "python3"
  },
  "language_info": {
   "codemirror_mode": {
    "name": "ipython",
    "version": 3
   },
   "file_extension": ".py",
   "mimetype": "text/x-python",
   "name": "python",
   "nbconvert_exporter": "python",
   "pygments_lexer": "ipython3",
   "version": "3.10.14"
  }
 },
 "nbformat": 4,
 "nbformat_minor": 2
}
